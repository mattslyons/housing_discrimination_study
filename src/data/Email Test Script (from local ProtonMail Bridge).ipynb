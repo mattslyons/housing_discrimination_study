{
 "cells": [
  {
   "cell_type": "code",
   "execution_count": 1,
   "id": "c7b4c09e",
   "metadata": {},
   "outputs": [],
   "source": [
    "import smtplib\n",
    "from email.mime.multipart import MIMEMultipart\n",
    "from email.mime.text import MIMEText"
   ]
  },
  {
   "cell_type": "code",
   "execution_count": 20,
   "id": "14431726",
   "metadata": {},
   "outputs": [
    {
     "data": {
      "text/plain": [
       "(221, b'2.0.0 Goodnight and good luck')"
      ]
     },
     "execution_count": 20,
     "metadata": {},
     "output_type": "execute_result"
    }
   ],
   "source": [
    "# single login, multi send\n",
    "\n",
    "port_number = 1041\n",
    "\n",
    "protonmail_user = 'josephpbailey@protonmail.com'\n",
    "# alternately, to include first name in header:\n",
    "# protonmail_user = 'Joseph Bailey <josephpbailey@protonmail.com>'\n",
    "protonmail_pw = 'Gi7-9132LWtZu9by1Y-emQ'\n",
    "\n",
    "recipients = ['luke.verdi@ischool.berkeley.edu', 'mattslyons@ischool.berkeley.edu', \n",
    "              'tbayer@ischool.berkeley.edu', 'sdstephens@ischool.berkeley.edu']\n",
    "\n",
    "bcc = 'mattslyons@gmail.com'\n",
    "\n",
    "messages = []\n",
    "\n",
    "for recipient_num in range(len(recipients)):\n",
    "    msg = MIMEMultipart()\n",
    "    msg['From'] = protonmail_user\n",
    "    msg['To'] = recipients[recipient_num]\n",
    "    msg['Bcc'] = bcc\n",
    "    msg['Subject'] = 'Responding to your Craiglist ad'\n",
    "    message = 'Hello! Is your room on Craigslist still available for rent?'\n",
    "    message += '\\nI’m in my 20s, male, and looking for a new place now that I’ve graduated and work full time. If it’s possible for us to meet and for me to see the room, please be in touch.'\n",
    "    message += '\\n\\nThanks!'\n",
    "    message += '\\n\\nJoseph'\n",
    "    \n",
    "    msg.attach(MIMEText(message))\n",
    "    messages.append(msg)\n",
    "    \n",
    "mailserver = smtplib.SMTP('localhost', port_number)\n",
    "mailserver.login(protonmail_user, protonmail_pw)\n",
    "for recipient_num in range(len(recipients)):\n",
    "    mailserver.sendmail(protonmail_user, recipients[recipient_num],messages[recipient_num].as_string())\n",
    "mailserver.quit()\n"
   ]
  }
 ],
 "metadata": {
  "kernelspec": {
   "display_name": "Python 3",
   "language": "python",
   "name": "python3"
  },
  "language_info": {
   "codemirror_mode": {
    "name": "ipython",
    "version": 3
   },
   "file_extension": ".py",
   "mimetype": "text/x-python",
   "name": "python",
   "nbconvert_exporter": "python",
   "pygments_lexer": "ipython3",
   "version": "3.8.8"
  }
 },
 "nbformat": 4,
 "nbformat_minor": 5
}
